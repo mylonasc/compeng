{
  "nbformat": 4,
  "nbformat_minor": 0,
  "metadata": {
    "colab": {
      "name": "10-11-2021_Opensees.ipynb",
      "provenance": [],
      "authorship_tag": "ABX9TyMTYjr9U+7WnxFLZSCJgYdU",
      "include_colab_link": true
    },
    "kernelspec": {
      "name": "python3",
      "display_name": "Python 3"
    },
    "language_info": {
      "name": "python"
    }
  },
  "cells": [
    {
      "cell_type": "markdown",
      "metadata": {
        "id": "view-in-github",
        "colab_type": "text"
      },
      "source": [
        "<a href=\"https://colab.research.google.com/github/mylonasc/compeng/blob/master/10_11_2021_Opensees.ipynb\" target=\"_parent\"><img src=\"https://colab.research.google.com/assets/colab-badge.svg\" alt=\"Open In Colab\"/></a>"
      ]
    },
    {
      "cell_type": "code",
      "metadata": {
        "colab": {
          "base_uri": "https://localhost:8080/"
        },
        "id": "miMPQfqZbeyA",
        "outputId": "dfa57370-a65e-46c7-bfd5-1f36900af88d"
      },
      "source": [
        "!python3 -m pip install openseespy"
      ],
      "execution_count": 1,
      "outputs": [
        {
          "output_type": "stream",
          "name": "stdout",
          "text": [
            "Requirement already satisfied: openseespy in /usr/local/lib/python3.7/dist-packages (3.3.0.1.1)\n",
            "Requirement already satisfied: openseespylinux>=3.3.0.1 in /usr/local/lib/python3.7/dist-packages (from openseespy) (3.3.0.1)\n"
          ]
        }
      ]
    },
    {
      "cell_type": "code",
      "metadata": {
        "colab": {
          "base_uri": "https://localhost:8080/"
        },
        "id": "RLCdFaJOeqiM",
        "outputId": "732e2190-b462-4d66-a0bb-8d9f34a14d39"
      },
      "source": [
        "!wget https://openseespydoc.readthedocs.io/en/latest/_downloads/0cfff7e8223b857f6259a885d69a2d62/RCFrameGravity.py\n",
        "!wget https://openseespydoc.readthedocs.io/en/latest/_downloads/b1b63c7deee01adbfaf9497b9dd579bd/ReadRecord.py\n",
        "!wget https://openseespydoc.readthedocs.io/en/latest/_downloads/51bc5b08c616a2a0c5a0eadb66c51054/elCentro.at2"
      ],
      "execution_count": 2,
      "outputs": [
        {
          "output_type": "stream",
          "name": "stdout",
          "text": [
            "--2021-11-10 10:56:16--  https://openseespydoc.readthedocs.io/en/latest/_downloads/0cfff7e8223b857f6259a885d69a2d62/RCFrameGravity.py\n",
            "Resolving openseespydoc.readthedocs.io (openseespydoc.readthedocs.io)... 104.17.33.82, 104.17.32.82, 2606:4700::6811:2152, ...\n",
            "Connecting to openseespydoc.readthedocs.io (openseespydoc.readthedocs.io)|104.17.33.82|:443... connected.\n",
            "HTTP request sent, awaiting response... 200 OK\n",
            "Length: 4644 (4.5K) [text/x-python]\n",
            "Saving to: ‘RCFrameGravity.py.1’\n",
            "\n",
            "\rRCFrameGravity.py.1   0%[                    ]       0  --.-KB/s               \rRCFrameGravity.py.1 100%[===================>]   4.54K  --.-KB/s    in 0s      \n",
            "\n",
            "2021-11-10 10:56:16 (55.4 MB/s) - ‘RCFrameGravity.py.1’ saved [4644/4644]\n",
            "\n",
            "--2021-11-10 10:56:16--  https://openseespydoc.readthedocs.io/en/latest/_downloads/b1b63c7deee01adbfaf9497b9dd579bd/ReadRecord.py\n",
            "Resolving openseespydoc.readthedocs.io (openseespydoc.readthedocs.io)... 104.17.33.82, 104.17.32.82, 2606:4700::6811:2052, ...\n",
            "Connecting to openseespydoc.readthedocs.io (openseespydoc.readthedocs.io)|104.17.33.82|:443... connected.\n",
            "HTTP request sent, awaiting response... 200 OK\n",
            "Length: 3478 (3.4K) [text/x-python]\n",
            "Saving to: ‘ReadRecord.py.1’\n",
            "\n",
            "ReadRecord.py.1     100%[===================>]   3.40K  --.-KB/s    in 0s      \n",
            "\n",
            "2021-11-10 10:56:16 (46.8 MB/s) - ‘ReadRecord.py.1’ saved [3478/3478]\n",
            "\n",
            "--2021-11-10 10:56:16--  https://openseespydoc.readthedocs.io/en/latest/_downloads/51bc5b08c616a2a0c5a0eadb66c51054/elCentro.at2\n",
            "Resolving openseespydoc.readthedocs.io (openseespydoc.readthedocs.io)... 104.17.33.82, 104.17.32.82, 2606:4700::6811:2052, ...\n",
            "Connecting to openseespydoc.readthedocs.io (openseespydoc.readthedocs.io)|104.17.33.82|:443... connected.\n",
            "HTTP request sent, awaiting response... 200 OK\n",
            "Length: 16070 (16K) [application/octet-stream]\n",
            "Saving to: ‘elCentro.at2.1’\n",
            "\n",
            "elCentro.at2.1      100%[===================>]  15.69K  --.-KB/s    in 0s      \n",
            "\n",
            "2021-11-10 10:56:16 (114 MB/s) - ‘elCentro.at2.1’ saved [16070/16070]\n",
            "\n"
          ]
        }
      ]
    },
    {
      "cell_type": "markdown",
      "metadata": {
        "id": "m0aG9T2RfFLf"
      },
      "source": [
        "\n",
        "## Running el-Centro earthquake to a concrete frame\n",
        "based on the code [here](https://openseespydoc.readthedocs.io/en/latest/src/RCFrameEarthquake.html)\n"
      ]
    },
    {
      "cell_type": "code",
      "metadata": {
        "colab": {
          "base_uri": "https://localhost:8080/",
          "height": 449
        },
        "id": "dtjO2C-Ues5f",
        "outputId": "b7f704b6-d178-45c2-a7c4-091d1ad7df50"
      },
      "source": [
        "print(\"==========================\")\n",
        "print(\"Start RCFrameEarthquake Example\")\n",
        "\n",
        "# Units: kips, in, sec  \n",
        "#\n",
        "# Written: Minjie\n",
        "\n",
        "from openseespy.opensees import *\n",
        "\n",
        "import ReadRecord\n",
        "import numpy as np\n",
        "import matplotlib.pyplot as plt\n",
        "\n",
        "wipe()\n",
        "# ----------------------------------------------------\n",
        "# Start of Model Generation & Initial Gravity Analysis\n",
        "# ----------------------------------------------------\n",
        "\n",
        "# Do operations of Example3.1 by sourcing in the tcl file\n",
        "import RCFrameGravity\n",
        "print(\"Gravity Analysis Completed\")\n",
        "\n",
        "# Set the gravity loads to be constant & reset the time in the domain\n",
        "loadConst('-time', 0.0)\n",
        "\n",
        "# ----------------------------------------------------\n",
        "# End of Model Generation & Initial Gravity Analysis\n",
        "# ----------------------------------------------------\n",
        "\n",
        "# Define nodal mass in terms of axial load on columns\n",
        "g = 386.4\n",
        "m = RCFrameGravity.P/g\n",
        "\n",
        "mass(3, m, m, 0.0)\n",
        "mass(4, m, m, 0.0)\n",
        "\n",
        "# Set some parameters\n",
        "record = 'elCentro'\n",
        "\n",
        "# Permform the conversion from SMD record to OpenSees record\n",
        "dt, nPts = ReadRecord.ReadRecord(record+'.at2', record+'.dat')\n",
        "\n",
        "# Set time series to be passed to uniform excitation\n",
        "timeSeries('Path', 2, '-filePath', record+'.dat', '-dt', dt, '-factor', g)\n",
        "\n",
        "# Create UniformExcitation load pattern\n",
        "#                         tag dir \n",
        "pattern('UniformExcitation',  2,   1,  '-accel', 2)\n",
        "\n",
        "# set the rayleigh damping factors for nodes & elements\n",
        "rayleigh(0.0, 0.0, 0.0, 0.000625)\n",
        "\n",
        "# Delete the old analysis and all it's component objects\n",
        "wipeAnalysis()\n",
        "\n",
        "# Create the system of equation, a banded general storage scheme\n",
        "system('BandGeneral')\n",
        "\n",
        "# Create the constraint handler, a plain handler as homogeneous boundary\n",
        "constraints('Plain')\n",
        "\n",
        "# Create the convergence test, the norm of the residual with a tolerance of \n",
        "# 1e-12 and a max number of iterations of 10\n",
        "test('NormDispIncr', 1.0e-12,  10 )\n",
        "\n",
        "# Create the solution algorithm, a Newton-Raphson algorithm\n",
        "algorithm('Newton')\n",
        "\n",
        "# Create the DOF numberer, the reverse Cuthill-McKee algorithm\n",
        "numberer('RCM')\n",
        "\n",
        "# Create the integration scheme, the Newmark with alpha =0.5 and beta =.25\n",
        "integrator('Newmark',  0.5,  0.25 )\n",
        "\n",
        "# Create the analysis object\n",
        "analysis('Transient')\n",
        "\n",
        "# Perform an eigenvalue analysis\n",
        "numEigen = 2\n",
        "eigenValues = eigen(numEigen)\n",
        "print(\"eigen values at start of transient:\",eigenValues)\n",
        "\n",
        "# set some variables\n",
        "tFinal = nPts*dt\n",
        "tCurrent = getTime()\n",
        "ok = 0\n",
        "\n",
        "time = [tCurrent]\n",
        "u3 = [0.0]\n",
        "\n",
        "# Perform the transient analysis\n",
        "while ok == 0 and tCurrent < tFinal:\n",
        "    \n",
        "    ok = analyze(1, .01)\n",
        "    \n",
        "    # if the analysis fails try initial tangent iteration\n",
        "    if ok != 0:\n",
        "        print(\"regular newton failed .. lets try an initail stiffness for this step\")\n",
        "        test('NormDispIncr', 1.0e-12,  100, 0)\n",
        "        algorithm('ModifiedNewton', '-initial')\n",
        "        ok =analyze( 1, .01)\n",
        "        if ok == 0:\n",
        "            print(\"that worked .. back to regular newton\")\n",
        "        test('NormDispIncr', 1.0e-12,  10 )\n",
        "        algorithm('Newton')\n",
        "    \n",
        "    tCurrent = getTime()\n",
        "\n",
        "    time.append(tCurrent)\n",
        "    u3.append(nodeDisp(3,1))\n",
        "\n",
        "\n",
        "\n",
        "# Perform an eigenvalue analysis\n",
        "eigenValues = eigen(numEigen)\n",
        "print(\"eigen values at end of transient:\",eigenValues)\n",
        "\n",
        "results = open('results.out','a+')\n",
        "\n",
        "if ok == 0:\n",
        "    results.write('PASSED : RCFrameEarthquake.py\\n');\n",
        "    print(\"Passed!\")\n",
        "else:\n",
        "    results.write('FAILED : RCFrameEarthquake.py\\n');\n",
        "    print(\"Failed!\")\n",
        "\n",
        "results.close()\n",
        "\n",
        "plt.plot(time, u3)\n",
        "plt.ylabel('Horizontal Displacement of node 3 (in)')\n",
        "plt.xlabel('Time (s)')\n",
        "\n",
        "plt.show()"
      ],
      "execution_count": 3,
      "outputs": [
        {
          "output_type": "stream",
          "name": "stdout",
          "text": [
            "==========================\n",
            "Start RCFrameEarthquake Example\n",
            "==========================\n",
            "Starting RCFrameGravity example\n",
            "Passed!\n",
            "==========================\n",
            "Gravity Analysis Completed\n",
            "eigen values at start of transient: [266.85892092337207, 17504.422568344115]\n",
            "eigen values at end of transient: [159.95037953233754, 17300.469482471242]\n",
            "Passed!\n"
          ]
        },
        {
          "output_type": "display_data",
          "data": {
            "image/png": "[encoded data removed]",
            "text/plain": [
              "<Figure size 432x288 with 1 Axes>"
            ]
          },
          "metadata": {
            "needs_background": "light"
          }
        }
      ]
    }
  ]
}